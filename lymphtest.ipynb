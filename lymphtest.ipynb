{
  "nbformat": 4,
  "nbformat_minor": 0,
  "metadata": {
    "colab": {
      "provenance": [],
      "authorship_tag": "ABX9TyOqKBiY2MKG6rPs8Uzmrlz0",
      "include_colab_link": true
    },
    "kernelspec": {
      "name": "python3",
      "display_name": "Python 3"
    },
    "language_info": {
      "name": "python"
    }
  },
  "cells": [
    {
      "cell_type": "markdown",
      "metadata": {
        "id": "view-in-github",
        "colab_type": "text"
      },
      "source": [
        "<a href=\"https://colab.research.google.com/github/vidakpop/lymph-skin-test/blob/main/lymphtest.ipynb\" target=\"_parent\"><img src=\"https://colab.research.google.com/assets/colab-badge.svg\" alt=\"Open In Colab\"/></a>"
      ]
    },
    {
      "cell_type": "code",
      "execution_count": 1,
      "metadata": {
        "id": "QQuO19ONueuT"
      },
      "outputs": [],
      "source": [
        "import tensorflow as tf\n",
        "import numpy as np\n",
        "import cv2\n",
        "from tensorflow.keras.models import load_model"
      ]
    },
    {
      "cell_type": "code",
      "source": [
        "# Load the trained model\n",
        "model = load_model(\"lumpy_skin_cattle_detector_transfer.h5\")\n"
      ],
      "metadata": {
        "colab": {
          "base_uri": "https://localhost:8080/"
        },
        "id": "lKEC0G5l8CMU",
        "outputId": "92d67d5b-94a8-4b94-a57c-ec9cd33fd08a"
      },
      "execution_count": 2,
      "outputs": [
        {
          "output_type": "stream",
          "name": "stderr",
          "text": [
            "WARNING:absl:Compiled the loaded model, but the compiled metrics have yet to be built. `model.compile_metrics` will be empty until you train or evaluate the model.\n"
          ]
        }
      ]
    },
    {
      "cell_type": "code",
      "source": [
        "# Function to preprocess and predict an image\n",
        "def predict_image(image_path):\n",
        "    # Load and preprocess the image\n",
        "    img = cv2.imread(image_path)  # Read image\n",
        "    img = cv2.resize(img, (224, 224))  # Resize to model input size\n",
        "    img = img / 255.0  # Normalize pixel values\n",
        "    img = np.expand_dims(img, axis=0)  # Add batch dimension\n",
        "\n",
        "    # Make a prediction\n",
        "    prediction = model.predict(img)[0][0]\n",
        "\n",
        "    # Interpret the result\n",
        "    if prediction < 0.5:\n",
        "        print(\"❌ Predicted: Lumpy Skin Disease Detected\")\n",
        "    else:\n",
        "        print(\"✅ Predicted: Healthy Cattle (Normal Skin)\")\n"
      ],
      "metadata": {
        "id": "6dKUTMqo8f9y"
      },
      "execution_count": 3,
      "outputs": []
    },
    {
      "cell_type": "code",
      "source": [
        "# Test with an example image\n",
        "image_path = \"/content/lumpyskin_dataset/archive/Lumpy Skin Images Dataset/Normal Skin/Normal_Skin_10.png\"  # Change this to your image path\n",
        "predict_image(image_path)"
      ],
      "metadata": {
        "id": "HNPUXwma9FUs"
      },
      "execution_count": null,
      "outputs": []
    }
  ]
}